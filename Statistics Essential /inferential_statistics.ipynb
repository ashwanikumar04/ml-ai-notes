{
 "cells": [
  {
   "cell_type": "markdown",
   "metadata": {},
   "source": [
    "A random variable is a numerical description of the outcome of a statistical experiment. A random variable that may assume only a finite number or an infinite sequence of values is said to be discrete; one that may assume any value in some interval on the real number line is said to be continuous."
   ]
  },
  {
   "cell_type": "markdown",
   "metadata": {},
   "source": [
    "# Expected value"
   ]
  },
  {
   "cell_type": "markdown",
   "metadata": {},
   "source": [
    "The expected value for a variable X is the value of X we would **expect** to get after performing the experiment once. ***It is also called the expectation, average, and mean value***. Mathematically speaking, for a random variable X that can take values x<sub>1</sub>,x<sub>2</sub>,x<sub>3</sub>,...........,x<sub>n</sub>, the expected value (EV) is given by:\n",
    "\n",
    "\n",
    "    \n",
    "## EV(X)=x<sub>1</sub>∗P(X=x<sub>1</sub>)+x<sub>2</sub>∗P(X=x<sub>2</sub>)+x<sub>3</sub>∗P(X=x<sub>3</sub>)+...........+x<sub>n</sub>∗P(X=x<sub>n</sub>)\n",
    "\n"
   ]
  },
  {
   "cell_type": "markdown",
   "metadata": {},
   "source": [
    "Sample question:\n",
    "\n",
    "Hugo is considering buying a scratch-off lottery ticket that costs 3 dollars. If the ticket wins, he can redeem the ticket for 50 dollars. If the ticket loses, the ticket is worthless. According to the lottery's website, 2%, percent of all tickets are winners.\n",
    "\n",
    "Find the expected value of buying a scratch-off lottery ticket. \n",
    "\n",
    "1. There is a 2%, percent chance of the ticket winning. If this happens, the value is 50−3=47 (the redemption value minus the cost of the ticket).\n",
    "2. There is a 98%, percent chance of the ticket losing. In this case, the value is −3 (just the cost of the ticket).\n",
    "3. Let's multiply each value by its probability because expected value is the sum of all possible values, each value multiplied by its probability.\n",
    "   \n",
    "| Type           | Value | Probability | Value.Probability |\n",
    "| -------------- | ----- | ----------- | ----------------- |\n",
    "| Winning ticket | 47    | 0.020       | .94               |\n",
    "| Losing ticket  | −3    | 0.980       | −2.94             |\n",
    "\n",
    "The expected value is 0.94+(−2.94)=−2"
   ]
  },
  {
   "cell_type": "markdown",
   "metadata": {},
   "source": [
    "# Binomial Probability\n",
    "\n",
    "The formula for finding binomial probability is given by -\n",
    "\n",
    " \n",
    "\n",
    "## P(X=r)= <sup>n</sup>C<sub>r</sub>(p)<sup>r</sup>(1−p)<sup>n−r</sup>\n",
    "\n",
    "Sample question:\n",
    "\n",
    "Steph's little brother Luke only has a 20%, percent chance of making a free-throw. He is going to shoot 4444 free-throws.\n",
    "What is the probability that he makes exactly 2 of the 4 free throws?\n",
    "\n",
    "1. n=4, equals, 4 trials (shots)\n",
    "2. each shot is either a make or miss\n",
    "3. probability that he makes a shot is p=0.20\n",
    "4. shots are independent\n",
    "\n",
    "P(exactly 2 makes) =<sup>4</sup>C<sub>2</sub>*(0.20)<sup>2</sup>*(0.80)<sup>2</sup>\n",
    "```\n",
    "= (4−2)!/2!*4!*0.04*0.64\n",
    "\n",
    "= (4*3*2*1/(2*2))*0.04*0.64\n",
    "\n",
    "= 6*0.04*0.64\n",
    "\n",
    "= 0.1536\n",
    "```"
   ]
  },
  {
   "cell_type": "markdown",
   "metadata": {},
   "source": [
    "# Cumulative probability\n",
    "\n",
    "A cumulative probability refers to the probability that the value of a random variable falls within a specified range. Frequently, cumulative probabilities refer to the probability that a random variable is less than or equal to a specified value.\n",
    "Cumulative probability of X, denoted by F(x), is defined as the probability of the variable being less than or equal to x.\n",
    "\n",
    " Consider a coin flip experiment. If we flip a coin two times, we might ask: What is the probability that the coin flips would result in one or fewer heads? The answer would be a cumulative probability. It would be the probability that the coin flip results in zero heads plus the probability that the coin flip results in one head. Thus, the cumulative probability would equal:\n",
    "\n",
    "P(X < 1) = P(X = 0) + P(X = 1) = 0.25 + 0.50 = 0.75 \n",
    "\n",
    "| Number of heads | Probability | Cumulative Probability |\n",
    "| --------------- | ----------- | ---------------------- |\n",
    "| 0               | 0.25        | 0.25                   |\n",
    "| 1               | 0.50        | 0.75                   |\n",
    "| 2               | 0.25        | 1.00                   |"
   ]
  },
  {
   "cell_type": "markdown",
   "metadata": {},
   "source": [
    "A CDF, or a cumulative distribution function, is a distribution which plots the cumulative probability of X against X.\n",
    "\n",
    "A PDF, or Probability Density Function, however, is a function in which the area under the curve, gives you the cumulative probability.\n",
    "\n",
    "The main difference between the cumulative probability distribution of a continuous random variable and a discrete one, is the way we plot them. While the continuous variables’ cumulative distribution is a curve, the distribution for discrete variables looks more like a bar chart.\n",
    "\n",
    "A commonly observed type of distribution among continuous variables is the uniform distribution. For a continuous random variable following a uniform distribution, the value of probability density is equal for all possible values."
   ]
  },
  {
   "cell_type": "markdown",
   "metadata": {},
   "source": [
    "PDFs are more commonly used in real life. The reason is that it is much easier to see patterns in PDFs as compared to CDFs. For example, here are the PDF and the CDF of a uniformly distributed continuous random variable.\n",
    "\n",
    "![pdf_cdf_1](images/pdf_cdf_1.png)\n",
    "\n",
    "The PDF clearly shows uniformity, as the probability density’s value remains constant for all possible values. However, the CDF does not show any trends that help you identify quickly that the variable is uniformly distributed.\n",
    "\n",
    "![pdf_cdf_2](images/pdf_cdf_2.png)\n",
    "\n",
    "it is clear that the symmetrical nature of the variable is much more apparent in the PDF than in the CDF."
   ]
  },
  {
   "cell_type": "code",
   "execution_count": null,
   "metadata": {},
   "outputs": [],
   "source": []
  }
 ],
 "metadata": {
  "kernelspec": {
   "display_name": "Python 3",
   "language": "python",
   "name": "python3"
  },
  "language_info": {
   "codemirror_mode": {
    "name": "ipython",
    "version": 3
   },
   "file_extension": ".py",
   "mimetype": "text/x-python",
   "name": "python",
   "nbconvert_exporter": "python",
   "pygments_lexer": "ipython3",
   "version": "3.7.4"
  }
 },
 "nbformat": 4,
 "nbformat_minor": 2
}
