{
 "cells": [
  {
   "cell_type": "markdown",
   "metadata": {},
   "source": [
    "A random variable is a numerical description of the outcome of a statistical experiment. A random variable that may assume only a finite number or an infinite sequence of values is said to be discrete; one that may assume any value in some interval on the real number line is said to be continuous."
   ]
  },
  {
   "cell_type": "markdown",
   "metadata": {},
   "source": [
    "# Expected value"
   ]
  },
  {
   "cell_type": "markdown",
   "metadata": {},
   "source": [
    "The expected value for a variable X is the value of X we would **expect** to get after performing the experiment once. ***It is also called the expectation, average, and mean value***. Mathematically speaking, for a random variable X that can take values x<sub>1</sub>,x<sub>2</sub>,x<sub>3</sub>,...........,x<sub>n</sub>, the expected value (EV) is given by:\n",
    "\n",
    "\n",
    "    \n",
    "## EV(X)=x<sub>1</sub>∗P(X=x<sub>1</sub>)+x<sub>2</sub>∗P(X=x<sub>2</sub>)+x<sub>3</sub>∗P(X=x<sub>3</sub>)+...........+x<sub>n</sub>∗P(X=x<sub>n</sub>)\n",
    "\n"
   ]
  },
  {
   "cell_type": "markdown",
   "metadata": {},
   "source": [
    "Sample question:\n",
    "\n",
    "Hugo is considering buying a scratch-off lottery ticket that costs 3 dollars. If the ticket wins, he can redeem the ticket for 50 dollars. If the ticket loses, the ticket is worthless. According to the lottery's website, 2%, percent of all tickets are winners.\n",
    "\n",
    "Find the expected value of buying a scratch-off lottery ticket. \n",
    "\n",
    "1. There is a 2%, percent chance of the ticket winning. If this happens, the value is 50−3=47 (the redemption value minus the cost of the ticket).\n",
    "2. There is a 98%, percent chance of the ticket losing. In this case, the value is −3 (just the cost of the ticket).\n",
    "3. Let's multiply each value by its probability because expected value is the sum of all possible values, each value multiplied by its probability.\n",
    "                Value\tProbability\t      Value.Probability\n",
    "Winning ticket\t47\t     0.020 \t           .94\n",
    "Losing ticket\t−3       0.980 \t           −2.94\n",
    "\n",
    "The expected value is 0.94+(−2.94)=−2"
   ]
  },
  {
   "cell_type": "code",
   "execution_count": null,
   "metadata": {},
   "outputs": [],
   "source": []
  }
 ],
 "metadata": {
  "kernelspec": {
   "display_name": "Python 3",
   "language": "python",
   "name": "python3"
  },
  "language_info": {
   "codemirror_mode": {
    "name": "ipython",
    "version": 3
   },
   "file_extension": ".py",
   "mimetype": "text/x-python",
   "name": "python",
   "nbconvert_exporter": "python",
   "pygments_lexer": "ipython3",
   "version": "3.7.4"
  }
 },
 "nbformat": 4,
 "nbformat_minor": 2
}
